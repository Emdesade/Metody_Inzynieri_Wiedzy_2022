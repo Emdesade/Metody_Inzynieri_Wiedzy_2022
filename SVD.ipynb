{
 "cells":[
  {
   "cell_type":"code",
   "source":[
    "# rozkład na wartosci singularne\n",
    "from numpy import array\n",
    "from scipy.linalg import svd\n",
    "# macierz\n",
    "A = array([[3, 1, 1], [-1, 3, 1]])\n",
    "print(\"A=\",A)\n",
    "# SVD\n",
    "U, S, V_T = svd(A)\n",
    "# lewe wektory własne\n",
    "print(\"U=\")\n",
    "print(U)\n",
    "# wartosci singularne\n",
    "print(\"S=\")\n",
    "print(S)\n",
    "# prawe wektory własne\n",
    "print(\"V_T=\")\n",
    "print(V_T)\n",
    "# tworzenie macierzy diagnolanej\n",
    "S_diag = array([[3.46410162, 0, 0], [0, 3.16227766, 0]])\n",
    "S_diag\n",
    "# rekonstrukcja naszej oryginalnej macierzy A z elementów dekompozycji według wartości osobliwych\n",
    "# mnożymy nasze macierze od prawej; czyli najpierw mnożone są dwie ostatnie macierze, a wynik mnożymy przez 1 macierz\n",
    "B = U.dot(S_diag.dot(V_T))\n",
    "print(\"Reconstructed matrix:\")\n",
    "print(B)"
   ],
   "execution_count":10,
   "outputs":[
    {
     "name":"stdout",
     "text":[
      "A= [[ 3  1  1]\n",
      " [-1  3  1]]\n",
      "U=\n",
      "[[-0.70710678 -0.70710678]\n",
      " [-0.70710678  0.70710678]]\n",
      "S=\n",
      "[3.46410162 3.16227766]\n",
      "V_T=\n",
      "[[-4.08248290e-01 -8.16496581e-01 -4.08248290e-01]\n",
      " [-8.94427191e-01  4.47213595e-01  5.26260748e-16]\n",
      " [-1.82574186e-01 -3.65148372e-01  9.12870929e-01]]\n",
      "Reconstructed matrix:\n",
      "[[ 3.  1.  1.]\n",
      " [-1.  3.  1.]]\n"
     ],
     "output_type":"stream"
    }
   ],
   "metadata":{
    "datalore":{
     "type":"CODE",
     "hide_input_from_viewers":false,
     "hide_output_from_viewers":false
    }
   }
  }
 ],
 "metadata":{
  "datalore":{
   "version":1,
   "computation_mode":"JUPYTER",
   "package_manager":"pip",
   "base_environment":"default",
   "packages":[
    
   ]
  }
 },
 "nbformat":4,
 "nbformat_minor":4
}