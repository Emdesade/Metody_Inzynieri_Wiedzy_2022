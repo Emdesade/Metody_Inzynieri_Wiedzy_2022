{
 "cells":[
  {
   "cell_type":"code",
   "source":[
    "\n",
    "  \n",
    "import numpy as np\n",
    "import math as m\n",
    "\n",
    "\n",
    "def MacierzQR(A):\n",
    "    print(f'\\nMacierz A =\\n{A}')\n",
    "    v1 = A[:, 0]\n",
    "    u1 = v1\n",
    "\n",
    "    print(f'\\nu1 = {u1}')\n",
    "\n",
    "    # nie wiem jak to sie nazywa ale tak wygląda, es\n",
    "    temp = 0\n",
    "    for x in u1:\n",
    "        temp += m.pow(x, 2)\n",
    "    podwojnaWartoscBezwzglednaU1 = m.sqrt(temp)\n",
    "\n",
    "    print(f'\\n|| u1 || = {podwojnaWartoscBezwzglednaU1}')\n",
    "\n",
    "    e1 = m.pow(podwojnaWartoscBezwzglednaU1, -1) * u1\n",
    "    print(f\"\\n e1 = {e1}\")\n",
    "\n",
    "    v2 = A[:, 1]\n",
    "    print(f\"\\n v2 = {v2}\")\n",
    "\n",
    "    proju1v2 = np.dot(v2, u1) \/ np.dot(u1, u1) * u1\n",
    "    print(f\"\\n proju1(v2) = {proju1v2}\")\n",
    "\n",
    "    u2 = v2 - proju1v2\n",
    "    print(f\"\\n u2 = {u2}\")\n",
    "\n",
    "    temp = 0\n",
    "    for x in u2:\n",
    "        temp += m.pow(x, 2)\n",
    "    podwojnaWartoscBezwzglednaU2 = m.sqrt(temp)\n",
    "    print(f'\\n|| u2 || = {podwojnaWartoscBezwzglednaU2}')\n",
    "\n",
    "    e2 = m.pow(podwojnaWartoscBezwzglednaU2, -1) * u2\n",
    "    print(f\"\\n e2 = {e2}\")\n",
    "\n",
    "    Q = np.concatenate([e1, e2])\n",
    "    Q = Q.reshape(2, 3)\n",
    "    print(f\"Q= {Q}\\n\")\n",
    "    R = np.dot(Q, A)\n",
    "    print(f\"R= {R}\\n\")\n",
    "\n",
    "\n",
    "macierz = np.array([\n",
    "    [0, 1],\n",
    "    [1, 0],\n",
    "    [2, 2]])\n",
    "\n",
    "MacierzQR(macierz)"
   ],
   "execution_count":2,
   "outputs":[
    {
     "name":"stdout",
     "text":[
      "\n",
      "Macierz A =\n",
      "[[0 1]\n",
      " [1 0]\n",
      " [2 2]]\n",
      "\n",
      "u1 = [0 1 2]\n",
      "\n",
      "|| u1 || = 2.23606797749979\n",
      "\n",
      " e1 = [0.         0.4472136  0.89442719]\n",
      "\n",
      " v2 = [1 0 2]\n",
      "\n",
      " proju1(v2) = [0.  0.8 1.6]\n",
      "\n",
      " u2 = [ 1.  -0.8  0.4]\n",
      "\n",
      "|| u2 || = 1.3416407864998738\n",
      "\n",
      " e2 = [ 0.74535599 -0.59628479  0.2981424 ]\n",
      "Q= [[ 0.          0.4472136   0.89442719]\n",
      " [ 0.74535599 -0.59628479  0.2981424 ]]\n",
      "\n",
      "R= [[ 2.23606798e+00  1.78885438e+00]\n",
      " [-1.11022302e-16  1.34164079e+00]]\n",
      "\n"
     ],
     "output_type":"stream"
    }
   ],
   "metadata":{
    "datalore":{
     "type":"CODE",
     "hide_input_from_viewers":false,
     "hide_output_from_viewers":false
    }
   }
  }
 ],
 "metadata":{
  "datalore":{
   "version":1,
   "computation_mode":"JUPYTER",
   "package_manager":"pip",
   "base_environment":"default",
   "packages":[
    
   ]
  }
 },
 "nbformat":4,
 "nbformat_minor":4
}