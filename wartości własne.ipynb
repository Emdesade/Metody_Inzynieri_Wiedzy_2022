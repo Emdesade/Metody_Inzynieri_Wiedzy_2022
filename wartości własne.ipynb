{
 "cells":[
  {
   "cell_type":"code",
   "source":[
    "# Av = λv - wartośc własna wektor własny\n",
    "# λ = wartośc własna \n",
    "# v = wektor własny\n",
    "# wielomian charakteryczny jest to taki wielomian który powstaje odjecia na głównej wartosci lambdy i obliczenie wyznacznika\n",
    "#{ 1-λ 0 0\n",
    "#  0 1-λ 0\n",
    "#  0 0 1-λ }\n",
    "# Av - λv = 0\n",
    "# Av - λIv = 0\n",
    "# (A - λI)v = 0\n",
    "#  wyznacznik |A - λI | = 0 - wielomian charakteryczny a pierwsiatki beda wartosciami własnymi \n",
    "# a b -λ I\n",
    "# c d \n",
    "#\n",
    "##\n",
    "#\n",
    "#\n",
    "##\n",
    "#\n",
    "#\n",
    "## A symetryczna i aij  nalezy do R\n",
    "# (Av)H do potegi = (λv)H do potegi\n",
    "# VhAh = λhvh\n",
    "# Ah do potegi = AT = A\n",
    "# \n",
    "##\n",
    "#\n",
    "#\n",
    "##\n",
    "#\n",
    "#\n",
    "##\n",
    "#\n",
    "#\n",
    "##\n",
    "# obliczenie wektora własnego ze wzoru w domu \n",
    "#\n",
    "#"
   ],
   "execution_count":null,
   "outputs":[
    
   ],
   "metadata":{
    "datalore":{
     "type":"CODE",
     "hide_input_from_viewers":false,
     "hide_output_from_viewers":false
    }
   }
  }
 ],
 "metadata":{
  "datalore":{
   "version":1,
   "computation_mode":"JUPYTER",
   "package_manager":"pip",
   "base_environment":"default",
   "packages":[
    
   ]
  }
 },
 "nbformat":4,
 "nbformat_minor":4
}