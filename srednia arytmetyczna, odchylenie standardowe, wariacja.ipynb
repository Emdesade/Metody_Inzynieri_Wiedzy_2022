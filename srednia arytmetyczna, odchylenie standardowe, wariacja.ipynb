{
 "cells":[
  {
   "cell_type":"code",
   "source":[
    "import numpy as np\n",
    "def liczenie(dane):\n",
    "    n = len(dane)\n",
    "    srednia = (sum(dane))\/n\n",
    "    odchylenie = [(x - srednia) ** 2 for x in dane]\n",
    "    wariacja = sum(odchylenie) \/ n\n",
    "    odchylenie_standardowe = wariacja ** 0.5\n",
    "    return (print('tyle wynosi wariacja',wariacja,'\\ntyle wynosi srednia',srednia,'\\ntyle wynosi ochylenie_standardowe',odchylenie_standardowe))\n",
    "print(liczenie([5,5,5,5,5]))"
   ],
   "execution_count":5,
   "outputs":[
    {
     "name":"stdout",
     "text":[
      "tyle wynosi wariacja 0.0 \n",
      "tyle wynosi srednia 5.0 \n",
      "tyle wynosi ochylenie_standardowe 0.0\n",
      "None\n"
     ],
     "output_type":"stream"
    }
   ],
   "metadata":{
    "datalore":{
     "type":"CODE",
     "hide_input_from_viewers":false,
     "hide_output_from_viewers":false
    }
   }
  },
  {
   "cell_type":"code",
   "source":[
    "#regresja liniowa\n",
    "# XB[beta]=y\n",
    "#  Macierz X robimy\n",
    "#  Macierz x = [ 1        x1]\n",
    "#              [ 1        x2]\n",
    "#              [ ...      x...]\n",
    "#              [ 1        xn-1]\n",
    "#              [ 1        xn]\n",
    "# B = [ B0 ]\n",
    "#     [ B1 ]\n",
    "#\n",
    "# y = [ y1 ]\n",
    "# y = [ y2 ]\n",
    "# y = [ y... ]\n",
    "# y = [ yn ]\n",
    "#\n",
    "# B0 + B1x1 = y1\n",
    "# B1 + B2x2 = y2\n",
    "#\n",
    "# B1 odpowiada za kąt nachylenia (tak jak a przy y=ax+b)\n",
    "# B0 odpowiada za przesuniecie do góry lub w dół (tak jak b przy y=ax+b)\n",
    "#\n",
    "# 2\/7[B0](~0.2857) i 5\/14[B1](~0.357)\n",
    "# Punkty:\n",
    "# 2,1\n",
    "# 5,2\n",
    "# 7,3\n",
    "# 8,3\n",
    "# https:\/\/webspace.maths.qmul.ac.uk\/b.bogacka\/SM_I_2013_LecturesWeek_6.pdf"
   ],
   "execution_count":null,
   "outputs":[
    
   ],
   "metadata":{
    "datalore":{
     "type":"CODE",
     "hide_input_from_viewers":false,
     "hide_output_from_viewers":false
    }
   }
  }
 ],
 "metadata":{
  "datalore":{
   "version":1,
   "computation_mode":"JUPYTER",
   "package_manager":"pip",
   "base_environment":"default",
   "packages":[
    
   ]
  }
 },
 "nbformat":4,
 "nbformat_minor":4
}