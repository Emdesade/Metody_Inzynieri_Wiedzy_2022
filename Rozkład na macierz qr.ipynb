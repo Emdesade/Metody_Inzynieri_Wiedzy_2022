{
 "cells":[
  {
   "cell_type":"code",
   "source":[
    "#A=[v1,v2,vn]\n",
    "#u1 =v1\n",
    "# zestaw prostopadłych wektorów wzgledem siebie\n",
    "# proj u(v)= iloczyn <vu> przez <uu> *u\n",
    "# krok 1 wybierasz kierunek a potem usuwasz składowe usuwając projekcie\n",
    "# Q=[e1,.....en] e=1 ze wzoru to wektory jednostkowe\n",
    "#\n",
    "#\n",
    "#\n",
    "#\n",
    "#wejciówka \n",
    "#liniowo niezalezne\n",
    "#\n",
    "#\n",
    "#\n",
    "#\n",
    "#\n",
    "#\n",
    "#\n",
    "#\n",
    "#\n",
    "#\n",
    "#\n",
    "#\n",
    "#\n"
   ],
   "execution_count":null,
   "outputs":[
    
   ],
   "metadata":{
    "datalore":{
     "type":"CODE",
     "hide_input_from_viewers":false,
     "hide_output_from_viewers":false
    }
   }
  }
 ],
 "metadata":{
  "datalore":{
   "version":1,
   "computation_mode":"JUPYTER",
   "package_manager":"pip",
   "base_environment":"default",
   "packages":[
    
   ]
  }
 },
 "nbformat":4,
 "nbformat_minor":4
}