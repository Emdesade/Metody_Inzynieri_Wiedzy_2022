{
 "cells":[
  {
   "cell_type":"code",
   "source":[
    "# metoda trapezowa\n",
    "\n",
    "# definiowanie funkcji\n",
    "def f(x):\n",
    "    return 1\/(1 + x**2)\n",
    "\n",
    "# implementacja metody trapezowej\n",
    "def trapezoidal(x0,xn,n):\n",
    "    # obliczanie wielkości kroku\n",
    "    h = (xn - x0) \/ n\n",
    "    \n",
    "    # szukanie sumy \n",
    "    integration = f(x0) + f(xn)\n",
    "    \n",
    "    for i in range(1,n):\n",
    "        k = x0 + i*h\n",
    "        integration = integration + 2 * f(k)\n",
    "    \n",
    "    # Znalezienie końcowej wartości integracji\n",
    "\n",
    "    integration = integration * h\/2\n",
    "    \n",
    "    return integration\n",
    "    \n",
    "# wpisz dane\n",
    "lower_limit = float(input(\"początek przedziału:\"))\n",
    "upper_limit = float(input(\"koniec przedziału: \"))\n",
    "sub_interval = int(input(\"Liczba podprzedziałów:\"))\n",
    "\n",
    "# wywowałanie metody\n",
    "result = trapezoidal(lower_limit, upper_limit, sub_interval)\n",
    "print(\"Wynik całkowania metodą trapezoidalną to: %0.6f\" % (result) )"
   ],
   "execution_count":6,
   "outputs":[
    
   ],
   "metadata":{
    "datalore":{
     "type":"CODE",
     "hide_input_from_viewers":false,
     "hide_output_from_viewers":false
    }
   }
  },
  {
   "cell_type":"code",
   "source":[
    "import numpy as np\n",
    "from random import randint, uniform\n",
    "def monte_carlo(function, a, b, pointNum):\n",
    "    maxValue = max(map(lambda i: function(i), np.linspace(a, b, pointNum, True)))\n",
    "    points = [(uniform(a, b), uniform(0, maxValue)) for x in range(pointNum)]\n",
    "\n",
    "    lower = upper = 0\n",
    "    for x in points:\n",
    "        if x[1] < function(x[0]):\n",
    "            lower += 1\n",
    "        else:\n",
    "            upper += 1\n",
    "\n",
    "    return maxValue * (b - a) * (lower \/ (lower + upper))\n",
    "\n",
    "def riemann(function, a, b, precision):\n",
    "    points = tuple(map(lambda i: function(i), np.linspace(a, b, precision, True)))\n",
    "    diff = (b - a) \/ (precision - 1)\n",
    "\n",
    "    area = 0\n",
    "    for x in points[1:]:\n",
    "        area += diff * x\n",
    "\n",
    "    return area\n",
    "\n",
    "\n",
    "\n",
    "def f2(x):\n",
    "    return x\n",
    "\n",
    "print(f\"Monte carlo ilosc pkt 1000: {monte_carlo(f2, 0, 1, 1000)}\")\n",
    "print(f\"Riemann dokladnosc 1000: {riemann(f2, 0,1 , 1000)}\")"
   ],
   "execution_count":13,
   "outputs":[
    {
     "name":"stdout",
     "text":[
      "Monte carlo ilosc pkt 1000: 0.517\n",
      "Riemann dokladnosc 1000: 0.5005005005005005\n"
     ],
     "output_type":"stream"
    }
   ],
   "metadata":{
    "datalore":{
     "type":"CODE",
     "hide_input_from_viewers":false,
     "hide_output_from_viewers":false
    }
   }
  }
 ],
 "metadata":{
  "datalore":{
   "version":1,
   "computation_mode":"JUPYTER",
   "package_manager":"pip",
   "base_environment":"default",
   "packages":[
    
   ]
  }
 },
 "nbformat":4,
 "nbformat_minor":4
}