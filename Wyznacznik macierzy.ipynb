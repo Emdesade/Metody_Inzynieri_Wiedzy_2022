{
 "cells":[
  {
   "cell_type":"code",
   "source":[
    "import numpy as np\n",
    "macierz = np.array([[1, 2, 3],\n",
    "                    [1, 2, 3],\n",
    "                    [1, 2, 3]])\n",
    "\n",
    "print(\"Numpy Matrix is:\")\n",
    "print(macierz)\n",
    "\n",
    "wyznacznik = np.linalg.det(macierz)\n",
    "print(int(wyznacznik))\n",
    "\n",
    "def wyznacznik_macierzy(a):\n",
    "    if len(a) == 1:\n",
    "        liczenie = a[0]\n",
    "        return liczenie\n",
    "    elif len(a) == 2:\n",
    "        liczenie = a[0][0]*a[1][1] - a[1][0]*a[0][1]\n",
    "        return liczenie\n",
    "    elif len(a) == 3:\n",
    "        liczenie = a[0][0]*a[1][1]*a[2][2]+a[1][0]*a[2][1]*a[0][2]+a[2][0]*a[0][1]*a[1][2]-a[0][2]*a[1][1]*a[2][0]-a[1][2]*a[2][1]*a[0][0]-a[2][2]*a[0][1]*a[1][0]\n",
    "        return liczenie\n",
    "    \n",
    "A = [2]\n",
    "B = [1,2],[2,2]\n",
    "print(wyznacznik_macierzy(macierz))"
   ],
   "execution_count":1,
   "outputs":[
    {
     "name":"stdout",
     "text":[
      "Numpy Matrix is:\n",
      "[[1 2 3]\n",
      " [1 2 3]\n",
      " [1 2 3]]\n",
      "0\n",
      "0\n"
     ],
     "output_type":"stream"
    }
   ],
   "metadata":{
    "datalore":{
     "type":"CODE",
     "hide_input_from_viewers":false,
     "hide_output_from_viewers":false
    }
   }
  }
 ],
 "metadata":{
  "datalore":{
   "version":1,
   "computation_mode":"REACTIVE",
   "package_manager":"pip",
   "base_environment":"default",
   "packages":[
    
   ]
  }
 },
 "nbformat":4,
 "nbformat_minor":4
}