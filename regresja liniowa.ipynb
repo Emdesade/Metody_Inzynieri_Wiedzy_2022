{
 "cells":[
  {
   "cell_type":"code",
   "source":[
    "#regresja liniowa\n",
    "# XB[beta]=y\n",
    "#  Macierz X robimy\n",
    "#  Macierz x = [ 1        x1]\n",
    "#              [ 1        x2]\n",
    "#              [ ...      x...]\n",
    "#              [ 1        xn-1]\n",
    "#              [ 1        xn]\n",
    "# B = [ B0 ]\n",
    "#     [ B1 ]\n",
    "#\n",
    "# y = [ y1 ]\n",
    "# y = [ y2 ]\n",
    "# y = [ y... ]\n",
    "# y = [ yn ]\n",
    "#\n",
    "# B0 + B1x1 = y1\n",
    "# B1 + B2x2 = y2\n",
    "#\n",
    "# B1 odpowiada za kąt nachylenia (tak jak a przy y=ax+b)\n",
    "# B0 odpowiada za przesuniecie do góry lub w dół (tak jak b przy y=ax+b)\n",
    "#\n",
    "# 2\/7[B0](~0.2857) i 5\/14[B1](~0.357)\n",
    "# Punkty:\n",
    "# 2,1\n",
    "# 5,2\n",
    "# 7,3\n",
    "# 8,3\n",
    "# https:\/\/webspace.maths.qmul.ac.uk\/b.bogacka\/SM_I_2013_LecturesWeek_6.pdf\n"
   ],
   "execution_count":null,
   "outputs":[
    
   ],
   "metadata":{
    "datalore":{
     "type":"CODE",
     "hide_input_from_viewers":false,
     "hide_output_from_viewers":false
    }
   }
  },
  {
   "cell_type":"code",
   "source":[
    "import math as m\n",
    "import numpy as np\n",
    "\n",
    "def m_kowariancji(matrix):\n",
    "    return np.dot(matrix.T,matrix)\n",
    "\n",
    "def odwrotnosc_m(matrix):\n",
    "    return np.linalg.inv(matrix)\n",
    "\n",
    "def lewa_odwrotnosc(matrix):\n",
    "    kow = m_kowariancji(matrix)\n",
    "    odwrotnosc = odwrotnosc_m(kow)\n",
    "    return np.dot(odwrotnosc,matrix.T)\n",
    "  \n",
    "def regresja_liniowa(matrix):\n",
    "    matrix_x=np.array([[1,x[0]]for x in matrix])\n",
    "    matrix_y=np.array([x[1]for x in matrix])\n",
    "    lewa_odw = lewa_odwrotnosc(matrix_x)\n",
    "    return np.dot(lewa_odw,matrix_y)\n",
    "    \n",
    "\n",
    "x_y=np.array([[2,1],[5,2],[7,3],[8,3]])\n",
    "print(regresja_liniowa(x_y))"
   ],
   "execution_count":1,
   "outputs":[
    {
     "name":"stdout",
     "text":[
      "[0.28571429 0.35714286]\n"
     ],
     "output_type":"stream"
    }
   ],
   "metadata":{
    "datalore":{
     "type":"CODE",
     "hide_input_from_viewers":false,
     "hide_output_from_viewers":false
    }
   }
  }
 ],
 "metadata":{
  "datalore":{
   "version":1,
   "computation_mode":"JUPYTER",
   "package_manager":"pip",
   "base_environment":"default",
   "packages":[
    
   ]
  }
 },
 "nbformat":4,
 "nbformat_minor":4
}